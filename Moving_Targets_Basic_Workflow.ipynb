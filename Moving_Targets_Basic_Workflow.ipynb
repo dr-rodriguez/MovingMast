{
 "cells": [
  {
   "cell_type": "markdown",
   "metadata": {},
   "source": [
    "# Moving Targets: Basic Workflow"
   ]
  },
  {
   "cell_type": "markdown",
   "metadata": {},
   "source": [
    "#### Imports"
   ]
  },
  {
   "cell_type": "code",
   "execution_count": null,
   "metadata": {},
   "outputs": [],
   "source": [
    "import target\n",
    "import plotting\n",
    "import mast_tap"
   ]
  },
  {
   "cell_type": "markdown",
   "metadata": {},
   "source": [
    "#### Target Parameters\n",
    "\n",
    "Setting some parameters up front that will be used elsewhere."
   ]
  },
  {
   "cell_type": "code",
   "execution_count": null,
   "metadata": {},
   "outputs": [],
   "source": [
    "# 599 Luisa (A906 HF)\n",
    "# obj_name = '599'  \n",
    "# id_type = 'smallbody'\n",
    "# times = {'start':'2010-01-01', 'stop':'2010-01-10', 'step':'1d'}\n",
    "\n",
    "# Jupiter Barycenter\n",
    "obj_name = '5'\n",
    "id_type='majorbody'\n",
    "times={'start': '2019-04-01', 'stop': '2019-04-10', 'step': '1d'} # WFC3\n",
    "#times = {'start': '1997-07-10', 'stop': '1997-07-15', 'step': '12h'} # WFPC2\n",
    "\n",
    "location = None # Geocentric default"
   ]
  },
  {
   "cell_type": "markdown",
   "metadata": {},
   "source": [
    "#### Get the ephemerides as an astropy table"
   ]
  },
  {
   "cell_type": "code",
   "execution_count": null,
   "metadata": {},
   "outputs": [],
   "source": [
    "eph = target.get_path(obj_name, id_type=id_type, times=times, location=location)\n",
    "\n",
    "eph"
   ]
  },
  {
   "cell_type": "markdown",
   "metadata": {},
   "source": [
    "#### Convert this to a space-time coordinate string polygon\n",
    "\n",
    "See http://www.ivoa.net/documents/STC-S/20130917/WD-STC-S-1.0-20130917.html"
   ]
  },
  {
   "cell_type": "code",
   "execution_count": null,
   "metadata": {},
   "outputs": [],
   "source": [
    "polygon = target.convert_path_to_polygon(eph)\n",
    "\n",
    "polygon"
   ]
  },
  {
   "cell_type": "markdown",
   "metadata": {},
   "source": [
    "#### Plotting the polygon"
   ]
  },
  {
   "cell_type": "code",
   "execution_count": null,
   "metadata": {},
   "outputs": [],
   "source": [
    "plotting.polygon_bokeh(polygon, display=True)"
   ]
  },
  {
   "cell_type": "markdown",
   "metadata": {},
   "source": [
    "#### TAP Query"
   ]
  },
  {
   "cell_type": "code",
   "execution_count": null,
   "metadata": {
    "scrolled": true
   },
   "outputs": [],
   "source": [
    "start_time = min(eph['datetime_jd']) - 2400000.5\n",
    "end_time = max(eph['datetime_jd']) - 2400000.5\n",
    "\n",
    "# If no start/end time supplied, any observation in that footprint would be matched\n",
    "# results = mast_tap.run_tap_query(polygon, start_time=None, end_time=None, maxrec=100)\n",
    "\n",
    "results = mast_tap.run_tap_query(polygon, start_time=start_time, end_time=end_time, maxrec=100)\n",
    "\n",
    "# results"
   ]
  },
  {
   "cell_type": "markdown",
   "metadata": {},
   "source": [
    "Filter results to only include the ones where the target was in the field of view of the observation. "
   ]
  },
  {
   "cell_type": "code",
   "execution_count": null,
   "metadata": {
    "scrolled": true
   },
   "outputs": [],
   "source": [
    "filtered_results = mast_tap.clean_up_results(results, obj_name=obj_name, id_type=id_type, location=location)\n",
    "\n",
    "filtered_results"
   ]
  },
  {
   "cell_type": "markdown",
   "metadata": {},
   "source": [
    "#### Display figure"
   ]
  },
  {
   "cell_type": "code",
   "execution_count": null,
   "metadata": {},
   "outputs": [],
   "source": [
    "from bokeh.plotting import figure, output_file, show, output_notebook\n",
    "from polygon import parse_s_region\n",
    "from bokeh.models import Arrow, VeeHead\n",
    "from bokeh.models import HoverTool\n",
    "from bokeh.palettes import Spectral4"
   ]
  },
  {
   "cell_type": "code",
   "execution_count": null,
   "metadata": {},
   "outputs": [],
   "source": [
    "mast_results = filtered_results\n",
    "stcs = polygon\n",
    "\n",
    "p = figure(plot_width=700, x_axis_label=\"RA (deg)\", y_axis_label=\"Dec (deg)\")\n",
    "\n",
    "# Target path\n",
    "eph_data = {'eph_x': eph['RA'], 'eph_y': eph['DEC'], 'Date': eph['datetime_str']}\n",
    "eph_plot1 = p.line(x='eph_x', y='eph_y', source=eph_data, line_width=2, line_color='black')\n",
    "eph_plot2 = p.circle(x='eph_x', y='eph_y', source=eph_data, fill_color=\"black\", size=12)\n",
    "p.add_tools(HoverTool(renderers=[eph_plot1, eph_plot2], tooltips=[('Date', \"@Date\")]))\n",
    "\n",
    "# Target footprint\n",
    "patch_xs = parse_s_region(stcs)['ra']\n",
    "patch_ys = parse_s_region(stcs)['dec']\n",
    "\n",
    "stcs_data = {'stcs_x': [patch_xs], 'stcs_y': [patch_ys]}\n",
    "p.patches('stcs_x', 'stcs_y', source=stcs_data, fill_alpha=0., line_color=\"grey\", line_width=0.8, line_dash='dashed')\n",
    "\n",
    "# Prepare MAST footprints\n",
    "obsDF = mast_results.to_pandas()\n",
    "obsDF['coords'] = obsDF.apply(lambda x: parse_s_region(x['s_region']), axis=1)\n",
    "for col in mast_results.colnames:\n",
    "    if isinstance(obsDF[col][0], bytes):\n",
    "        obsDF[col] = obsDF[col].str.decode('utf-8')\n",
    "\n",
    "# Loop over missions, coloring each separately\n",
    "mast_plots = []\n",
    "for mission, color in zip(obsDF['obs_collection'].unique(), Spectral4):\n",
    "    ind = obsDF['obs_collection'] == mission\n",
    "\n",
    "    # Add patches with the observation footprings\n",
    "    patch_xs = [c['ra'] for c in obsDF['coords'][ind]]\n",
    "    patch_ys = [c['dec'] for c in obsDF['coords'][ind]]\n",
    "\n",
    "    data = {'x': patch_xs, 'y': patch_ys, 'obs_collection': obsDF['obs_collection'][ind],\n",
    "            'instrument_name': obsDF['instrument_name'][ind], 'obs_id': obsDF['obs_id'][ind],\n",
    "            'target_name': obsDF['target_name'][ind], 'proposal_pi': obsDF['proposal_pi'][ind]}\n",
    "    mast_plots.append(p.patches('x', 'y', source=data, legend=mission,\n",
    "              fill_color=color, fill_alpha=0.1, line_color=\"white\", line_width=0.5))\n",
    "\n",
    "# Add hover tooltip for MAST observations\n",
    "tooltip = [(\"obs_collection\", \"@obs_collection\"),\n",
    "           (\"instrument_name\", \"@instrument_name\"),\n",
    "           (\"obs_id\", \"@obs_id\"),\n",
    "           (\"target_name\", \"@target_name\"),\n",
    "           ('proposal_pi', '@proposal_pi')]\n",
    "p.add_tools(HoverTool(renderers=mast_plots, tooltips=tooltip))\n",
    "\n",
    "p.x_range.flipped = True\n",
    "p.legend.click_policy = \"hide\"\n",
    "\n",
    "output_notebook()\n",
    "show(p)"
   ]
  },
  {
   "cell_type": "code",
   "execution_count": null,
   "metadata": {},
   "outputs": [],
   "source": []
  }
 ],
 "metadata": {
  "kernelspec": {
   "display_name": "Python 3",
   "language": "python",
   "name": "python3"
  },
  "language_info": {
   "codemirror_mode": {
    "name": "ipython",
    "version": 3
   },
   "file_extension": ".py",
   "mimetype": "text/x-python",
   "name": "python",
   "nbconvert_exporter": "python",
   "pygments_lexer": "ipython3",
   "version": "3.8.5"
  }
 },
 "nbformat": 4,
 "nbformat_minor": 4
}
