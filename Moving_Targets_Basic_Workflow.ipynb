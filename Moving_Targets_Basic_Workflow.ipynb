{
 "cells": [
  {
   "cell_type": "markdown",
   "metadata": {},
   "source": [
    "# Moving Targets: Basic Workflow"
   ]
  },
  {
   "cell_type": "markdown",
   "metadata": {},
   "source": [
    "#### Imports"
   ]
  },
  {
   "cell_type": "code",
   "execution_count": 1,
   "metadata": {},
   "outputs": [],
   "source": [
    "import target\n",
    "import plotting\n",
    "import mast_tap"
   ]
  },
  {
   "cell_type": "markdown",
   "metadata": {},
   "source": [
    "#### Target Parameters\n",
    "\n",
    "Setting some parameters up front that will be used elsewhere."
   ]
  },
  {
   "cell_type": "code",
   "execution_count": 2,
   "metadata": {},
   "outputs": [],
   "source": [
    "# 599 Luisa (A906 HF)\n",
    "# obj_name = '599'  \n",
    "# id_type = 'smallbody'\n",
    "# times = {'start':'2010-01-01', 'stop':'2010-01-10', 'step':'1d'}\n",
    "\n",
    "# Jupiter Barycenter\n",
    "obj_name = '5'\n",
    "id_type='majorbody'\n",
    "times={'start': '2019-04-01', 'stop': '2019-04-10', 'step': '1d'} # WFC3\n",
    "#times = {'start': '1997-07-10', 'stop': '1997-07-15', 'step': '12h'} # WFPC2\n",
    "\n",
    "location = None # Geocentric default"
   ]
  },
  {
   "cell_type": "markdown",
   "metadata": {},
   "source": [
    "#### Get the ephemerides as an astropy table"
   ]
  },
  {
   "cell_type": "code",
   "execution_count": 3,
   "metadata": {},
   "outputs": [
    {
     "data": {
      "text/html": [
       "<i>Table masked=True length=10</i>\n",
       "<table id=\"table5847768992\" class=\"table-striped table-bordered table-condensed\">\n",
       "<thead><tr><th>targetname</th><th>datetime_str</th><th>datetime_jd</th><th>solar_presence</th><th>flags</th><th>RA</th><th>DEC</th><th>RA_app</th><th>DEC_app</th><th>RA_rate</th><th>DEC_rate</th><th>AZ</th><th>EL</th><th>AZ_rate</th><th>EL_rate</th><th>sat_X</th><th>sat_Y</th><th>sat_PANG</th><th>siderealtime</th><th>airmass</th><th>magextinct</th><th>V</th><th>surfbright</th><th>illumination</th><th>illum_defect</th><th>sat_sep</th><th>sat_vis</th><th>ang_width</th><th>PDObsLon</th><th>PDObsLat</th><th>PDSunLon</th><th>PDSunLat</th><th>SubSol_ang</th><th>SubSol_dist</th><th>NPole_ang</th><th>NPole_dist</th><th>EclLon</th><th>EclLat</th><th>r</th><th>r_rate</th><th>delta</th><th>delta_rate</th><th>lighttime</th><th>vel_sun</th><th>vel_obs</th><th>elong</th><th>elongFlag</th><th>alpha</th><th>lunar_elong</th><th>lunar_illum</th><th>sat_alpha</th><th>sunTargetPA</th><th>velocityPA</th><th>OrbPlaneAng</th><th>constellation</th><th>TDB-UT</th><th>ObsEclLon</th><th>ObsEclLat</th><th>NPole_RA</th><th>NPole_DEC</th><th>GlxLon</th><th>GlxLat</th><th>solartime</th><th>earth_lighttime</th><th>RA_3sigma</th><th>DEC_3sigma</th><th>SMAA_3sigma</th><th>SMIA_3sigma</th><th>Theta_3sigma</th><th>Area_3sigma</th><th>RSS_3sigma</th><th>r_3sigma</th><th>r_rate_3sigma</th><th>SBand_3sigma</th><th>XBand_3sigma</th><th>DoppDelay_3sigma</th><th>true_anom</th><th>hour_angle</th><th>alpha_true</th><th>PABLon</th><th>PABLat</th></tr></thead>\n",
       "<thead><tr><th>---</th><th>---</th><th>d</th><th>---</th><th>---</th><th>deg</th><th>deg</th><th>deg</th><th>deg</th><th>arcsec / h</th><th>arcsec / h</th><th>deg</th><th>deg</th><th>arcsec / min</th><th>arcsec / min</th><th>arcsec</th><th>arcsec</th><th>deg</th><th>---</th><th>---</th><th>mag</th><th>mag</th><th>mag / arcsec2</th><th>%</th><th>arcsec</th><th>arcsec</th><th>---</th><th>arcsec</th><th>deg</th><th>deg</th><th>deg</th><th>deg</th><th>deg</th><th>arcsec</th><th>deg</th><th>arcsec</th><th>deg</th><th>deg</th><th>AU</th><th>km / s</th><th>AU</th><th>km / s</th><th>min</th><th>km / s</th><th>km / s</th><th>deg</th><th>---</th><th>deg</th><th>deg</th><th>%</th><th>deg</th><th>deg</th><th>deg</th><th>deg</th><th>---</th><th>s</th><th>deg</th><th>deg</th><th>deg</th><th>deg</th><th>deg</th><th>deg</th><th>---</th><th>min</th><th>arcsec</th><th>arcsec</th><th>arcsec</th><th>arcsec</th><th>deg</th><th>arcsec2</th><th>arcsec</th><th>km</th><th>km / s</th><th>Hz</th><th>Hz</th><th>s</th><th>deg</th><th>---</th><th>deg</th><th>deg</th><th>deg</th></tr></thead>\n",
       "<thead><tr><th>str22</th><th>str17</th><th>float64</th><th>str1</th><th>str1</th><th>float64</th><th>float64</th><th>float64</th><th>float64</th><th>float64</th><th>float64</th><th>int64</th><th>int64</th><th>int64</th><th>int64</th><th>float64</th><th>float64</th><th>float64</th><th>int64</th><th>int64</th><th>int64</th><th>float64</th><th>float64</th><th>float64</th><th>float64</th><th>float64</th><th>str1</th><th>float64</th><th>float64</th><th>float64</th><th>float64</th><th>float64</th><th>float64</th><th>float64</th><th>float64</th><th>float64</th><th>float64</th><th>float64</th><th>float64</th><th>float64</th><th>float64</th><th>float64</th><th>float64</th><th>float64</th><th>float64</th><th>float64</th><th>str2</th><th>float64</th><th>float64</th><th>float64</th><th>float64</th><th>float64</th><th>float64</th><th>float64</th><th>str3</th><th>float64</th><th>float64</th><th>float64</th><th>float64</th><th>float64</th><th>float64</th><th>float64</th><th>int64</th><th>float64</th><th>int64</th><th>int64</th><th>int64</th><th>int64</th><th>int64</th><th>int64</th><th>int64</th><th>int64</th><th>int64</th><th>int64</th><th>int64</th><th>int64</th><th>float64</th><th>int64</th><th>float64</th><th>float64</th><th>float64</th></tr></thead>\n",
       "<tr><td>Jupiter Barycenter (5)</td><td>2019-Apr-01 00:00</td><td>2458574.5</td><td></td><td></td><td>263.42762</td><td>-22.66586</td><td>263.71552</td><td>-22.67696</td><td>4.531284</td><td>-0.16531</td><td>--</td><td>--</td><td>--</td><td>--</td><td>-381853.55</td><td>-97273.79</td><td>247.608</td><td>--</td><td>999</td><td>--</td><td>-2.23</td><td>5.5</td><td>99.18555</td><td>0.3245</td><td>384385.9</td><td>*</td><td>39.84855</td><td>327.863777</td><td>-3.158486</td><td>338.231581</td><td>-3.194367</td><td>92.31</td><td>3.58</td><td>1.8797</td><td>-18.603</td><td>253.5831</td><td>0.5906</td><td>5.322479901196</td><td>-0.5495679</td><td>4.94737254728866</td><td>-26.9398309</td><td>41.14604281</td><td>12.7673404</td><td>27.3161681</td><td>106.7739</td><td>/L</td><td>10.3572</td><td>58.6</td><td>16.815</td><td>62.869</td><td>272.419</td><td>273.896</td><td>-0.26348</td><td>Oph</td><td>69.185672</td><td>264.2027374</td><td>0.6326376</td><td>268.05758</td><td>64.49714</td><td>3.903281</td><td>5.594005</td><td>--</td><td>0.0</td><td>--</td><td>--</td><td>--</td><td>--</td><td>--</td><td>--</td><td>--</td><td>--</td><td>--</td><td>--</td><td>--</td><td>--</td><td>240.459</td><td>--</td><td>10.3556</td><td>258.7587</td><td>0.6154</td></tr>\n",
       "<tr><td>Jupiter Barycenter (5)</td><td>2019-Apr-02 00:00</td><td>2458575.5</td><td></td><td></td><td>263.45868</td><td>-22.66695</td><td>263.74671</td><td>-22.67801</td><td>4.06728</td><td>-0.14558</td><td>--</td><td>--</td><td>--</td><td>--</td><td>-384808.18</td><td>-98667.24</td><td>247.684</td><td>--</td><td>999</td><td>--</td><td>-2.238</td><td>5.5</td><td>99.19347</td><td>0.3224</td><td>387836.4</td><td>*</td><td>39.97395</td><td>118.449092</td><td>-3.158373</td><td>128.766227</td><td>-3.192173</td><td>92.28</td><td>3.58</td><td>1.8663</td><td>-18.662</td><td>253.6624</td><td>0.589</td><td>5.322162340648</td><td>-0.5500181</td><td>4.93185231578753</td><td>-26.8043521</td><td>41.01696498</td><td>12.768123</td><td>27.1075528</td><td>107.7323</td><td>/L</td><td>10.3067</td><td>70.4</td><td>10.4074</td><td>61.961</td><td>272.395</td><td>273.883</td><td>-0.26432</td><td>Oph</td><td>69.185673</td><td>264.231528</td><td>0.6328473</td><td>268.05758</td><td>64.49714</td><td>3.917876</td><td>5.569164</td><td>--</td><td>0.0</td><td>--</td><td>--</td><td>--</td><td>--</td><td>--</td><td>--</td><td>--</td><td>--</td><td>--</td><td>--</td><td>--</td><td>--</td><td>240.5396</td><td>--</td><td>10.305</td><td>258.8127</td><td>0.6147</td></tr>\n",
       "<tr><td>Jupiter Barycenter (5)</td><td>2019-Apr-03 00:00</td><td>2458576.5</td><td></td><td></td><td>263.48639</td><td>-22.66791</td><td>263.77452</td><td>-22.67893</td><td>3.601465</td><td>-0.12612</td><td>--</td><td>--</td><td>--</td><td>--</td><td>-387756.61</td><td>-100055.18</td><td>247.766</td><td>--</td><td>999</td><td>--</td><td>-2.246</td><td>5.499</td><td>99.20183</td><td>0.3201</td><td>391296.2</td><td>*</td><td>40.09949</td><td>269.037109</td><td>-3.158287</td><td>279.300459</td><td>-3.189972</td><td>92.26</td><td>3.57</td><td>1.8544</td><td>-18.721</td><td>253.7418</td><td>0.5874</td><td>5.321844520545</td><td>-0.5504672</td><td>4.91641267709129</td><td>-26.660731</td><td>40.88855742</td><td>12.7689062</td><td>26.8984985</td><td>108.6934</td><td>/L</td><td>10.253</td><td>82.3</td><td>5.3873</td><td>61.0536</td><td>272.372</td><td>273.872</td><td>-0.26507</td><td>Oph</td><td>69.185674</td><td>264.2572075</td><td>0.6330476</td><td>268.05758</td><td>64.49714</td><td>3.930907</td><td>5.547009</td><td>--</td><td>0.0</td><td>--</td><td>--</td><td>--</td><td>--</td><td>--</td><td>--</td><td>--</td><td>--</td><td>--</td><td>--</td><td>--</td><td>--</td><td>240.6202</td><td>--</td><td>10.2513</td><td>258.8652</td><td>0.614</td></tr>\n",
       "<tr><td>Jupiter Barycenter (5)</td><td>2019-Apr-04 00:00</td><td>2458577.5</td><td></td><td></td><td>263.51072</td><td>-22.66873</td><td>263.79895</td><td>-22.67971</td><td>3.134087</td><td>-0.10692</td><td>--</td><td>--</td><td>--</td><td>--</td><td>-390698.97</td><td>-101437.27</td><td>247.855</td><td>--</td><td>999</td><td>--</td><td>-2.253</td><td>5.498</td><td>99.21063</td><td>0.3175</td><td>394765.2</td><td>*</td><td>40.22511</td><td>59.627813</td><td>-3.158228</td><td>69.834253</td><td>-3.187766</td><td>92.24</td><td>3.56</td><td>1.8439</td><td>-18.779</td><td>253.8211</td><td>0.5857</td><td>5.321526441488</td><td>-0.5509153</td><td>4.9010583499944</td><td>-26.5089137</td><td>40.76085938</td><td>12.76969</td><td>26.6890375</td><td>109.657</td><td>/L</td><td>10.1963</td><td>94.3</td><td>1.9624</td><td>60.1467</td><td>272.351</td><td>273.863</td><td>-0.26576</td><td>Oph</td><td>69.185675</td><td>264.2797671</td><td>0.6332382</td><td>268.05758</td><td>64.49714</td><td>3.94237</td><td>5.527548</td><td>--</td><td>0.0</td><td>--</td><td>--</td><td>--</td><td>--</td><td>--</td><td>--</td><td>--</td><td>--</td><td>--</td><td>--</td><td>--</td><td>--</td><td>240.7009</td><td>--</td><td>10.1945</td><td>258.9161</td><td>0.6132</td></tr>\n",
       "<tr><td>Jupiter Barycenter (5)</td><td>2019-Apr-05 00:00</td><td>2458578.5</td><td></td><td></td><td>263.53167</td><td>-22.66942</td><td>263.82</td><td>-22.68037</td><td>2.665412</td><td>-0.08796</td><td>--</td><td>--</td><td>--</td><td>--</td><td>-393635.38</td><td>-102813.14</td><td>247.95</td><td>--</td><td>999</td><td>--</td><td>-2.261</td><td>5.498</td><td>99.21987</td><td>0.3148</td><td>398243.6</td><td>*</td><td>40.35079</td><td>210.221192</td><td>-3.158196</td><td>220.367585</td><td>-3.185553</td><td>92.22</td><td>3.55</td><td>1.8348</td><td>-18.838</td><td>253.9004</td><td>0.5841</td><td>5.321208104082</td><td>-0.5513623</td><td>4.8857940797605</td><td>-26.3488633</td><td>40.63391031</td><td>12.7704744</td><td>26.4792134</td><td>110.6232</td><td>/L</td><td>10.1364</td><td>106.4</td><td>0.3162</td><td>59.2404</td><td>272.33</td><td>273.854</td><td>-0.26636</td><td>Oph</td><td>69.185675</td><td>264.2992011</td><td>0.6334185</td><td>268.05758</td><td>64.49714</td><td>3.952259</td><td>5.510789</td><td>--</td><td>0.0</td><td>--</td><td>--</td><td>--</td><td>--</td><td>--</td><td>--</td><td>--</td><td>--</td><td>--</td><td>--</td><td>--</td><td>--</td><td>240.7815</td><td>--</td><td>10.1345</td><td>258.9654</td><td>0.6125</td></tr>\n",
       "<tr><td>Jupiter Barycenter (5)</td><td>2019-Apr-06 00:00</td><td>2458579.5</td><td></td><td></td><td>263.54923</td><td>-22.66997</td><td>263.83767</td><td>-22.68089</td><td>2.195721</td><td>-0.06925</td><td>--</td><td>--</td><td>--</td><td>--</td><td>-396565.97</td><td>-104182.44</td><td>248.051</td><td>--</td><td>999</td><td>--</td><td>-2.268</td><td>5.497</td><td>99.22953</td><td>0.3119</td><td>401731.1</td><td>*</td><td>40.47646</td><td>0.817229</td><td>-3.158189</td><td>10.900431</td><td>-3.183333</td><td>92.2</td><td>3.54</td><td>1.8272</td><td>-18.897</td><td>253.9798</td><td>0.5825</td><td>5.320889508931</td><td>-0.5518084</td><td>4.87062462694699</td><td>-26.1805644</td><td>40.50774982</td><td>12.7712594</td><td>26.269084</td><td>111.592</td><td>/L</td><td>10.0734</td><td>118.8</td><td>0.5908</td><td>58.3346</td><td>272.311</td><td>273.847</td><td>-0.26688</td><td>Oph</td><td>69.185674</td><td>264.315506</td><td>0.6335879</td><td>268.05758</td><td>64.49714</td><td>3.96057</td><td>5.49674</td><td>--</td><td>0.0</td><td>--</td><td>--</td><td>--</td><td>--</td><td>--</td><td>--</td><td>--</td><td>--</td><td>--</td><td>--</td><td>--</td><td>--</td><td>240.8621</td><td>--</td><td>10.0714</td><td>259.0132</td><td>0.6117</td></tr>\n",
       "<tr><td>Jupiter Barycenter (5)</td><td>2019-Apr-07 00:00</td><td>2458580.5</td><td></td><td></td><td>263.5634</td><td>-22.6704</td><td>263.85194</td><td>-22.68128</td><td>1.725308</td><td>-0.05077</td><td>--</td><td>--</td><td>--</td><td>--</td><td>-399490.9</td><td>-105544.82</td><td>248.159</td><td>--</td><td>999</td><td>--</td><td>-2.276</td><td>5.496</td><td>99.23961</td><td>0.3087</td><td>405227.9</td><td>*</td><td>40.60208</td><td>151.415904</td><td>-3.158208</td><td>161.432767</td><td>-3.181107</td><td>92.18</td><td>3.53</td><td>1.8211</td><td>-18.955</td><td>254.0591</td><td>0.5809</td><td>5.320570656641</td><td>-0.5522533</td><td>4.85555475354694</td><td>-26.0040281</td><td>40.3824175</td><td>12.772045</td><td>26.0587255</td><td>112.5633</td><td>/L</td><td>10.0072</td><td>131.3</td><td>2.868</td><td>57.4295</td><td>272.293</td><td>273.842</td><td>-0.26732</td><td>Oph</td><td>69.185673</td><td>264.3286805</td><td>0.6337458</td><td>268.05759</td><td>64.49714</td><td>3.967301</td><td>5.485404</td><td>--</td><td>0.0</td><td>--</td><td>--</td><td>--</td><td>--</td><td>--</td><td>--</td><td>--</td><td>--</td><td>--</td><td>--</td><td>--</td><td>--</td><td>240.9427</td><td>--</td><td>10.0051</td><td>259.0594</td><td>0.611</td></tr>\n",
       "<tr><td>Jupiter Barycenter (5)</td><td>2019-Apr-08 00:00</td><td>2458581.5</td><td></td><td></td><td>263.57416</td><td>-22.6707</td><td>263.86282</td><td>-22.68155</td><td>1.254474</td><td>-0.03252</td><td>--</td><td>--</td><td>--</td><td>--</td><td>-402410.32</td><td>-106899.93</td><td>248.273</td><td>--</td><td>999</td><td>--</td><td>-2.284</td><td>5.495</td><td>99.2501</td><td>0.3054</td><td>408733.9</td><td>*</td><td>40.72761</td><td>302.0172</td><td>-3.158251</td><td>311.964569</td><td>-3.178875</td><td>92.16</td><td>3.51</td><td>1.8164</td><td>-19.014</td><td>254.1385</td><td>0.5793</td><td>5.320251547822</td><td>-0.5526973</td><td>4.84058920681261</td><td>-25.8192948</td><td>40.25795285</td><td>12.7728312</td><td>25.8482344</td><td>113.5372</td><td>/L</td><td>9.9379</td><td>144.0</td><td>7.1529</td><td>56.5249</td><td>272.276</td><td>273.837</td><td>-0.26769</td><td>Oph</td><td>69.185672</td><td>264.3387247</td><td>0.6338913</td><td>268.05759</td><td>64.49714</td><td>3.972447</td><td>5.476785</td><td>--</td><td>0.0</td><td>--</td><td>--</td><td>--</td><td>--</td><td>--</td><td>--</td><td>--</td><td>--</td><td>--</td><td>--</td><td>--</td><td>--</td><td>241.0233</td><td>--</td><td>9.9357</td><td>259.1041</td><td>0.6102</td></tr>\n",
       "<tr><td>Jupiter Barycenter (5)</td><td>2019-Apr-09 00:00</td><td>2458582.5</td><td></td><td></td><td>263.58153</td><td>-22.67087</td><td>263.87031</td><td>-22.6817</td><td>0.783522</td><td>-0.01448</td><td>--</td><td>--</td><td>--</td><td>--</td><td>-405324.4</td><td>-108247.43</td><td>248.393</td><td>--</td><td>999</td><td>--</td><td>-2.291</td><td>5.494</td><td>99.26098</td><td>0.3019</td><td>412249.1</td><td>*</td><td>40.853</td><td>92.621092</td><td>-3.158318</td><td>102.495814</td><td>-3.176637</td><td>92.15</td><td>3.5</td><td>1.8132</td><td>-19.072</td><td>254.2178</td><td>0.5777</td><td>5.319932183083</td><td>-0.5531402</td><td>4.82573270156788</td><td>-25.6264366</td><td>40.13439506</td><td>12.773618</td><td>25.6377293</td><td>114.5136</td><td>/L</td><td>9.8654</td><td>156.9</td><td>13.3618</td><td>55.6209</td><td>272.26</td><td>273.834</td><td>-0.26797</td><td>Oph</td><td>69.18567</td><td>264.3456388</td><td>0.6340236</td><td>268.05759</td><td>64.49714</td><td>3.976009</td><td>5.470883</td><td>--</td><td>0.0</td><td>--</td><td>--</td><td>--</td><td>--</td><td>--</td><td>--</td><td>--</td><td>--</td><td>--</td><td>--</td><td>--</td><td>--</td><td>241.1039</td><td>--</td><td>9.8632</td><td>259.1471</td><td>0.6094</td></tr>\n",
       "<tr><td>Jupiter Barycenter (5)</td><td>2019-Apr-10 00:00</td><td>2458583.5</td><td></td><td></td><td>263.58549</td><td>-22.67091</td><td>263.87442</td><td>-22.68173</td><td>0.312745</td><td>0.003356</td><td>--</td><td>--</td><td>--</td><td>--</td><td>-408233.34</td><td>-109586.96</td><td>248.52</td><td>--</td><td>999</td><td>--</td><td>-2.299</td><td>5.493</td><td>99.27226</td><td>0.2982</td><td>415773.3</td><td>*</td><td>40.97819</td><td>243.227558</td><td>-3.158408</td><td>253.026478</td><td>-3.174392</td><td>92.13</td><td>3.48</td><td>1.8114</td><td>-19.131</td><td>254.2972</td><td>0.576</td><td>5.319612563035</td><td>-0.553582</td><td>4.8109899020468</td><td>-25.4255564</td><td>40.01178294</td><td>12.7744054</td><td>25.4273511</td><td>115.4926</td><td>/L</td><td>9.7898</td><td>170.0</td><td>21.3165</td><td>54.7176</td><td>272.245</td><td>273.832</td><td>-0.26816</td><td>Oph</td><td>69.185667</td><td>264.3494231</td><td>0.6341419</td><td>268.05759</td><td>64.49714</td><td>3.977986</td><td>5.467699</td><td>--</td><td>0.0</td><td>--</td><td>--</td><td>--</td><td>--</td><td>--</td><td>--</td><td>--</td><td>--</td><td>--</td><td>--</td><td>--</td><td>--</td><td>241.1845</td><td>--</td><td>9.7875</td><td>259.1887</td><td>0.6086</td></tr>\n",
       "</table>"
      ],
      "text/plain": [
       "<Table masked=True length=10>\n",
       "      targetname          datetime_str   datetime_jd ...  PABLon   PABLat\n",
       "         ---                  ---             d      ...   deg      deg  \n",
       "        str22                str17         float64   ... float64  float64\n",
       "---------------------- ----------------- ----------- ... -------- -------\n",
       "Jupiter Barycenter (5) 2019-Apr-01 00:00   2458574.5 ... 258.7587  0.6154\n",
       "Jupiter Barycenter (5) 2019-Apr-02 00:00   2458575.5 ... 258.8127  0.6147\n",
       "Jupiter Barycenter (5) 2019-Apr-03 00:00   2458576.5 ... 258.8652   0.614\n",
       "Jupiter Barycenter (5) 2019-Apr-04 00:00   2458577.5 ... 258.9161  0.6132\n",
       "Jupiter Barycenter (5) 2019-Apr-05 00:00   2458578.5 ... 258.9654  0.6125\n",
       "Jupiter Barycenter (5) 2019-Apr-06 00:00   2458579.5 ... 259.0132  0.6117\n",
       "Jupiter Barycenter (5) 2019-Apr-07 00:00   2458580.5 ... 259.0594   0.611\n",
       "Jupiter Barycenter (5) 2019-Apr-08 00:00   2458581.5 ... 259.1041  0.6102\n",
       "Jupiter Barycenter (5) 2019-Apr-09 00:00   2458582.5 ... 259.1471  0.6094\n",
       "Jupiter Barycenter (5) 2019-Apr-10 00:00   2458583.5 ... 259.1887  0.6086"
      ]
     },
     "execution_count": 3,
     "metadata": {},
     "output_type": "execute_result"
    }
   ],
   "source": [
    "eph = target.get_path(obj_name, id_type=id_type, times=times, location=location)\n",
    "\n",
    "eph"
   ]
  },
  {
   "cell_type": "markdown",
   "metadata": {},
   "source": [
    "#### Convert this to a space-time coordinate string polygon\n",
    "\n",
    "See http://www.ivoa.net/documents/STC-S/20130917/WD-STC-S-1.0-20130917.html"
   ]
  },
  {
   "cell_type": "code",
   "execution_count": 4,
   "metadata": {},
   "outputs": [
    {
     "data": {
      "text/plain": [
       "'POLYGON  263.42762 -22.65756 263.45868 -22.65865 263.48639 -22.65961 263.51072 -22.66043 263.53167 -22.66112 263.54923 -22.66167 263.5634 -22.662100000000002 263.57416 -22.6624 263.58153 -22.662570000000002 263.58549 -22.66261 263.58549 -22.679209999999998 263.58153 -22.67917 263.57416 -22.679 263.5634 -22.6787 263.54923 -22.678269999999998 263.53167 -22.677719999999997 263.51072 -22.67703 263.48639 -22.676209999999998 263.45868 -22.67525 263.42762 -22.674159999999997'"
      ]
     },
     "execution_count": 4,
     "metadata": {},
     "output_type": "execute_result"
    }
   ],
   "source": [
    "polygon = target.convert_path_to_polygon(eph)\n",
    "\n",
    "polygon"
   ]
  },
  {
   "cell_type": "markdown",
   "metadata": {},
   "source": [
    "#### Plotting the polygon"
   ]
  },
  {
   "cell_type": "code",
   "execution_count": 5,
   "metadata": {},
   "outputs": [
    {
     "data": {
      "text/html": [
       "\n",
       "    <div class=\"bk-root\">\n",
       "        <a href=\"https://bokeh.org\" target=\"_blank\" class=\"bk-logo bk-logo-small bk-logo-notebook\"></a>\n",
       "        <span id=\"1041\">Loading BokehJS ...</span>\n",
       "    </div>"
      ]
     },
     "metadata": {},
     "output_type": "display_data"
    },
    {
     "data": {
      "application/javascript": [
       "\n",
       "(function(root) {\n",
       "  function now() {\n",
       "    return new Date();\n",
       "  }\n",
       "\n",
       "  var force = true;\n",
       "\n",
       "  if (typeof root._bokeh_onload_callbacks === \"undefined\" || force === true) {\n",
       "    root._bokeh_onload_callbacks = [];\n",
       "    root._bokeh_is_loading = undefined;\n",
       "  }\n",
       "\n",
       "  var JS_MIME_TYPE = 'application/javascript';\n",
       "  var HTML_MIME_TYPE = 'text/html';\n",
       "  var EXEC_MIME_TYPE = 'application/vnd.bokehjs_exec.v0+json';\n",
       "  var CLASS_NAME = 'output_bokeh rendered_html';\n",
       "\n",
       "  /**\n",
       "   * Render data to the DOM node\n",
       "   */\n",
       "  function render(props, node) {\n",
       "    var script = document.createElement(\"script\");\n",
       "    node.appendChild(script);\n",
       "  }\n",
       "\n",
       "  /**\n",
       "   * Handle when an output is cleared or removed\n",
       "   */\n",
       "  function handleClearOutput(event, handle) {\n",
       "    var cell = handle.cell;\n",
       "\n",
       "    var id = cell.output_area._bokeh_element_id;\n",
       "    var server_id = cell.output_area._bokeh_server_id;\n",
       "    // Clean up Bokeh references\n",
       "    if (id != null && id in Bokeh.index) {\n",
       "      Bokeh.index[id].model.document.clear();\n",
       "      delete Bokeh.index[id];\n",
       "    }\n",
       "\n",
       "    if (server_id !== undefined) {\n",
       "      // Clean up Bokeh references\n",
       "      var cmd = \"from bokeh.io.state import curstate; print(curstate().uuid_to_server['\" + server_id + \"'].get_sessions()[0].document.roots[0]._id)\";\n",
       "      cell.notebook.kernel.execute(cmd, {\n",
       "        iopub: {\n",
       "          output: function(msg) {\n",
       "            var id = msg.content.text.trim();\n",
       "            if (id in Bokeh.index) {\n",
       "              Bokeh.index[id].model.document.clear();\n",
       "              delete Bokeh.index[id];\n",
       "            }\n",
       "          }\n",
       "        }\n",
       "      });\n",
       "      // Destroy server and session\n",
       "      var cmd = \"import bokeh.io.notebook as ion; ion.destroy_server('\" + server_id + \"')\";\n",
       "      cell.notebook.kernel.execute(cmd);\n",
       "    }\n",
       "  }\n",
       "\n",
       "  /**\n",
       "   * Handle when a new output is added\n",
       "   */\n",
       "  function handleAddOutput(event, handle) {\n",
       "    var output_area = handle.output_area;\n",
       "    var output = handle.output;\n",
       "\n",
       "    // limit handleAddOutput to display_data with EXEC_MIME_TYPE content only\n",
       "    if ((output.output_type != \"display_data\") || (!output.data.hasOwnProperty(EXEC_MIME_TYPE))) {\n",
       "      return\n",
       "    }\n",
       "\n",
       "    var toinsert = output_area.element.find(\".\" + CLASS_NAME.split(' ')[0]);\n",
       "\n",
       "    if (output.metadata[EXEC_MIME_TYPE][\"id\"] !== undefined) {\n",
       "      toinsert[toinsert.length - 1].firstChild.textContent = output.data[JS_MIME_TYPE];\n",
       "      // store reference to embed id on output_area\n",
       "      output_area._bokeh_element_id = output.metadata[EXEC_MIME_TYPE][\"id\"];\n",
       "    }\n",
       "    if (output.metadata[EXEC_MIME_TYPE][\"server_id\"] !== undefined) {\n",
       "      var bk_div = document.createElement(\"div\");\n",
       "      bk_div.innerHTML = output.data[HTML_MIME_TYPE];\n",
       "      var script_attrs = bk_div.children[0].attributes;\n",
       "      for (var i = 0; i < script_attrs.length; i++) {\n",
       "        toinsert[toinsert.length - 1].firstChild.setAttribute(script_attrs[i].name, script_attrs[i].value);\n",
       "        toinsert[toinsert.length - 1].firstChild.textContent = bk_div.children[0].textContent\n",
       "      }\n",
       "      // store reference to server id on output_area\n",
       "      output_area._bokeh_server_id = output.metadata[EXEC_MIME_TYPE][\"server_id\"];\n",
       "    }\n",
       "  }\n",
       "\n",
       "  function register_renderer(events, OutputArea) {\n",
       "\n",
       "    function append_mime(data, metadata, element) {\n",
       "      // create a DOM node to render to\n",
       "      var toinsert = this.create_output_subarea(\n",
       "        metadata,\n",
       "        CLASS_NAME,\n",
       "        EXEC_MIME_TYPE\n",
       "      );\n",
       "      this.keyboard_manager.register_events(toinsert);\n",
       "      // Render to node\n",
       "      var props = {data: data, metadata: metadata[EXEC_MIME_TYPE]};\n",
       "      render(props, toinsert[toinsert.length - 1]);\n",
       "      element.append(toinsert);\n",
       "      return toinsert\n",
       "    }\n",
       "\n",
       "    /* Handle when an output is cleared or removed */\n",
       "    events.on('clear_output.CodeCell', handleClearOutput);\n",
       "    events.on('delete.Cell', handleClearOutput);\n",
       "\n",
       "    /* Handle when a new output is added */\n",
       "    events.on('output_added.OutputArea', handleAddOutput);\n",
       "\n",
       "    /**\n",
       "     * Register the mime type and append_mime function with output_area\n",
       "     */\n",
       "    OutputArea.prototype.register_mime_type(EXEC_MIME_TYPE, append_mime, {\n",
       "      /* Is output safe? */\n",
       "      safe: true,\n",
       "      /* Index of renderer in `output_area.display_order` */\n",
       "      index: 0\n",
       "    });\n",
       "  }\n",
       "\n",
       "  // register the mime type if in Jupyter Notebook environment and previously unregistered\n",
       "  if (root.Jupyter !== undefined) {\n",
       "    var events = require('base/js/events');\n",
       "    var OutputArea = require('notebook/js/outputarea').OutputArea;\n",
       "\n",
       "    if (OutputArea.prototype.mime_types().indexOf(EXEC_MIME_TYPE) == -1) {\n",
       "      register_renderer(events, OutputArea);\n",
       "    }\n",
       "  }\n",
       "\n",
       "  \n",
       "  if (typeof (root._bokeh_timeout) === \"undefined\" || force === true) {\n",
       "    root._bokeh_timeout = Date.now() + 5000;\n",
       "    root._bokeh_failed_load = false;\n",
       "  }\n",
       "\n",
       "  var NB_LOAD_WARNING = {'data': {'text/html':\n",
       "     \"<div style='background-color: #fdd'>\\n\"+\n",
       "     \"<p>\\n\"+\n",
       "     \"BokehJS does not appear to have successfully loaded. If loading BokehJS from CDN, this \\n\"+\n",
       "     \"may be due to a slow or bad network connection. Possible fixes:\\n\"+\n",
       "     \"</p>\\n\"+\n",
       "     \"<ul>\\n\"+\n",
       "     \"<li>re-rerun `output_notebook()` to attempt to load from CDN again, or</li>\\n\"+\n",
       "     \"<li>use INLINE resources instead, as so:</li>\\n\"+\n",
       "     \"</ul>\\n\"+\n",
       "     \"<code>\\n\"+\n",
       "     \"from bokeh.resources import INLINE\\n\"+\n",
       "     \"output_notebook(resources=INLINE)\\n\"+\n",
       "     \"</code>\\n\"+\n",
       "     \"</div>\"}};\n",
       "\n",
       "  function display_loaded() {\n",
       "    var el = document.getElementById(\"1041\");\n",
       "    if (el != null) {\n",
       "      el.textContent = \"BokehJS is loading...\";\n",
       "    }\n",
       "    if (root.Bokeh !== undefined) {\n",
       "      if (el != null) {\n",
       "        el.textContent = \"BokehJS \" + root.Bokeh.version + \" successfully loaded.\";\n",
       "      }\n",
       "    } else if (Date.now() < root._bokeh_timeout) {\n",
       "      setTimeout(display_loaded, 100)\n",
       "    }\n",
       "  }\n",
       "\n",
       "\n",
       "  function run_callbacks() {\n",
       "    try {\n",
       "      root._bokeh_onload_callbacks.forEach(function(callback) {\n",
       "        if (callback != null)\n",
       "          callback();\n",
       "      });\n",
       "    } finally {\n",
       "      delete root._bokeh_onload_callbacks\n",
       "    }\n",
       "    console.debug(\"Bokeh: all callbacks have finished\");\n",
       "  }\n",
       "\n",
       "  function load_libs(css_urls, js_urls, callback) {\n",
       "    if (css_urls == null) css_urls = [];\n",
       "    if (js_urls == null) js_urls = [];\n",
       "\n",
       "    root._bokeh_onload_callbacks.push(callback);\n",
       "    if (root._bokeh_is_loading > 0) {\n",
       "      console.debug(\"Bokeh: BokehJS is being loaded, scheduling callback at\", now());\n",
       "      return null;\n",
       "    }\n",
       "    if (js_urls == null || js_urls.length === 0) {\n",
       "      run_callbacks();\n",
       "      return null;\n",
       "    }\n",
       "    console.debug(\"Bokeh: BokehJS not loaded, scheduling load and callback at\", now());\n",
       "    root._bokeh_is_loading = css_urls.length + js_urls.length;\n",
       "\n",
       "    function on_load() {\n",
       "      root._bokeh_is_loading--;\n",
       "      if (root._bokeh_is_loading === 0) {\n",
       "        console.debug(\"Bokeh: all BokehJS libraries/stylesheets loaded\");\n",
       "        run_callbacks()\n",
       "      }\n",
       "    }\n",
       "\n",
       "    function on_error() {\n",
       "      console.error(\"failed to load \" + url);\n",
       "    }\n",
       "\n",
       "    for (var i = 0; i < css_urls.length; i++) {\n",
       "      var url = css_urls[i];\n",
       "      const element = document.createElement(\"link\");\n",
       "      element.onload = on_load;\n",
       "      element.onerror = on_error;\n",
       "      element.rel = \"stylesheet\";\n",
       "      element.type = \"text/css\";\n",
       "      element.href = url;\n",
       "      console.debug(\"Bokeh: injecting link tag for BokehJS stylesheet: \", url);\n",
       "      document.body.appendChild(element);\n",
       "    }\n",
       "\n",
       "    const hashes = {\"https://cdn.bokeh.org/bokeh/release/bokeh-2.2.0.min.js\": \"jtq3UzIrk2TfDZfSNGEN0ICKrRWmtzZSQm6i1Xnd3hY3UfU9m98vuEL7JUv7Iway\", \"https://cdn.bokeh.org/bokeh/release/bokeh-widgets-2.2.0.min.js\": \"rRlSZb4FImflqQNhKcvkZq8b+FqcNFxP9CmCO8Vgo9uNXe6wk6yNMlKMrXn+TjeM\", \"https://cdn.bokeh.org/bokeh/release/bokeh-tables-2.2.0.min.js\": \"MJyUmyL5f4wPlABPEp4CF5HzMeAPMvzucE8gEGNH15tAWgHFb2hsPNIEkva89XtP\"};\n",
       "\n",
       "    for (var i = 0; i < js_urls.length; i++) {\n",
       "      var url = js_urls[i];\n",
       "      var element = document.createElement('script');\n",
       "      element.onload = on_load;\n",
       "      element.onerror = on_error;\n",
       "      element.async = false;\n",
       "      element.src = url;\n",
       "      if (url in hashes) {\n",
       "        element.crossOrigin = \"anonymous\";\n",
       "        element.integrity = \"sha384-\" + hashes[url];\n",
       "      }\n",
       "      console.debug(\"Bokeh: injecting script tag for BokehJS library: \", url);\n",
       "      document.head.appendChild(element);\n",
       "    }\n",
       "  };\n",
       "\n",
       "  function inject_raw_css(css) {\n",
       "    const element = document.createElement(\"style\");\n",
       "    element.appendChild(document.createTextNode(css));\n",
       "    document.body.appendChild(element);\n",
       "  }\n",
       "\n",
       "  \n",
       "  var js_urls = [\"https://cdn.bokeh.org/bokeh/release/bokeh-2.2.0.min.js\", \"https://cdn.bokeh.org/bokeh/release/bokeh-widgets-2.2.0.min.js\", \"https://cdn.bokeh.org/bokeh/release/bokeh-tables-2.2.0.min.js\"];\n",
       "  var css_urls = [];\n",
       "  \n",
       "\n",
       "  var inline_js = [\n",
       "    function(Bokeh) {\n",
       "      Bokeh.set_log_level(\"info\");\n",
       "    },\n",
       "    function(Bokeh) {\n",
       "    \n",
       "    \n",
       "    }\n",
       "  ];\n",
       "\n",
       "  function run_inline_js() {\n",
       "    \n",
       "    if (root.Bokeh !== undefined || force === true) {\n",
       "      \n",
       "    for (var i = 0; i < inline_js.length; i++) {\n",
       "      inline_js[i].call(root, root.Bokeh);\n",
       "    }\n",
       "    if (force === true) {\n",
       "        display_loaded();\n",
       "      }} else if (Date.now() < root._bokeh_timeout) {\n",
       "      setTimeout(run_inline_js, 100);\n",
       "    } else if (!root._bokeh_failed_load) {\n",
       "      console.log(\"Bokeh: BokehJS failed to load within specified timeout.\");\n",
       "      root._bokeh_failed_load = true;\n",
       "    } else if (force !== true) {\n",
       "      var cell = $(document.getElementById(\"1041\")).parents('.cell').data().cell;\n",
       "      cell.output_area.append_execute_result(NB_LOAD_WARNING)\n",
       "    }\n",
       "\n",
       "  }\n",
       "\n",
       "  if (root._bokeh_is_loading === 0) {\n",
       "    console.debug(\"Bokeh: BokehJS loaded, going straight to plotting\");\n",
       "    run_inline_js();\n",
       "  } else {\n",
       "    load_libs(css_urls, js_urls, function() {\n",
       "      console.debug(\"Bokeh: BokehJS plotting callback run at\", now());\n",
       "      run_inline_js();\n",
       "    });\n",
       "  }\n",
       "}(window));"
      ],
      "application/vnd.bokehjs_load.v0+json": "\n(function(root) {\n  function now() {\n    return new Date();\n  }\n\n  var force = true;\n\n  if (typeof root._bokeh_onload_callbacks === \"undefined\" || force === true) {\n    root._bokeh_onload_callbacks = [];\n    root._bokeh_is_loading = undefined;\n  }\n\n  \n\n  \n  if (typeof (root._bokeh_timeout) === \"undefined\" || force === true) {\n    root._bokeh_timeout = Date.now() + 5000;\n    root._bokeh_failed_load = false;\n  }\n\n  var NB_LOAD_WARNING = {'data': {'text/html':\n     \"<div style='background-color: #fdd'>\\n\"+\n     \"<p>\\n\"+\n     \"BokehJS does not appear to have successfully loaded. If loading BokehJS from CDN, this \\n\"+\n     \"may be due to a slow or bad network connection. Possible fixes:\\n\"+\n     \"</p>\\n\"+\n     \"<ul>\\n\"+\n     \"<li>re-rerun `output_notebook()` to attempt to load from CDN again, or</li>\\n\"+\n     \"<li>use INLINE resources instead, as so:</li>\\n\"+\n     \"</ul>\\n\"+\n     \"<code>\\n\"+\n     \"from bokeh.resources import INLINE\\n\"+\n     \"output_notebook(resources=INLINE)\\n\"+\n     \"</code>\\n\"+\n     \"</div>\"}};\n\n  function display_loaded() {\n    var el = document.getElementById(\"1041\");\n    if (el != null) {\n      el.textContent = \"BokehJS is loading...\";\n    }\n    if (root.Bokeh !== undefined) {\n      if (el != null) {\n        el.textContent = \"BokehJS \" + root.Bokeh.version + \" successfully loaded.\";\n      }\n    } else if (Date.now() < root._bokeh_timeout) {\n      setTimeout(display_loaded, 100)\n    }\n  }\n\n\n  function run_callbacks() {\n    try {\n      root._bokeh_onload_callbacks.forEach(function(callback) {\n        if (callback != null)\n          callback();\n      });\n    } finally {\n      delete root._bokeh_onload_callbacks\n    }\n    console.debug(\"Bokeh: all callbacks have finished\");\n  }\n\n  function load_libs(css_urls, js_urls, callback) {\n    if (css_urls == null) css_urls = [];\n    if (js_urls == null) js_urls = [];\n\n    root._bokeh_onload_callbacks.push(callback);\n    if (root._bokeh_is_loading > 0) {\n      console.debug(\"Bokeh: BokehJS is being loaded, scheduling callback at\", now());\n      return null;\n    }\n    if (js_urls == null || js_urls.length === 0) {\n      run_callbacks();\n      return null;\n    }\n    console.debug(\"Bokeh: BokehJS not loaded, scheduling load and callback at\", now());\n    root._bokeh_is_loading = css_urls.length + js_urls.length;\n\n    function on_load() {\n      root._bokeh_is_loading--;\n      if (root._bokeh_is_loading === 0) {\n        console.debug(\"Bokeh: all BokehJS libraries/stylesheets loaded\");\n        run_callbacks()\n      }\n    }\n\n    function on_error() {\n      console.error(\"failed to load \" + url);\n    }\n\n    for (var i = 0; i < css_urls.length; i++) {\n      var url = css_urls[i];\n      const element = document.createElement(\"link\");\n      element.onload = on_load;\n      element.onerror = on_error;\n      element.rel = \"stylesheet\";\n      element.type = \"text/css\";\n      element.href = url;\n      console.debug(\"Bokeh: injecting link tag for BokehJS stylesheet: \", url);\n      document.body.appendChild(element);\n    }\n\n    const hashes = {\"https://cdn.bokeh.org/bokeh/release/bokeh-2.2.0.min.js\": \"jtq3UzIrk2TfDZfSNGEN0ICKrRWmtzZSQm6i1Xnd3hY3UfU9m98vuEL7JUv7Iway\", \"https://cdn.bokeh.org/bokeh/release/bokeh-widgets-2.2.0.min.js\": \"rRlSZb4FImflqQNhKcvkZq8b+FqcNFxP9CmCO8Vgo9uNXe6wk6yNMlKMrXn+TjeM\", \"https://cdn.bokeh.org/bokeh/release/bokeh-tables-2.2.0.min.js\": \"MJyUmyL5f4wPlABPEp4CF5HzMeAPMvzucE8gEGNH15tAWgHFb2hsPNIEkva89XtP\"};\n\n    for (var i = 0; i < js_urls.length; i++) {\n      var url = js_urls[i];\n      var element = document.createElement('script');\n      element.onload = on_load;\n      element.onerror = on_error;\n      element.async = false;\n      element.src = url;\n      if (url in hashes) {\n        element.crossOrigin = \"anonymous\";\n        element.integrity = \"sha384-\" + hashes[url];\n      }\n      console.debug(\"Bokeh: injecting script tag for BokehJS library: \", url);\n      document.head.appendChild(element);\n    }\n  };\n\n  function inject_raw_css(css) {\n    const element = document.createElement(\"style\");\n    element.appendChild(document.createTextNode(css));\n    document.body.appendChild(element);\n  }\n\n  \n  var js_urls = [\"https://cdn.bokeh.org/bokeh/release/bokeh-2.2.0.min.js\", \"https://cdn.bokeh.org/bokeh/release/bokeh-widgets-2.2.0.min.js\", \"https://cdn.bokeh.org/bokeh/release/bokeh-tables-2.2.0.min.js\"];\n  var css_urls = [];\n  \n\n  var inline_js = [\n    function(Bokeh) {\n      Bokeh.set_log_level(\"info\");\n    },\n    function(Bokeh) {\n    \n    \n    }\n  ];\n\n  function run_inline_js() {\n    \n    if (root.Bokeh !== undefined || force === true) {\n      \n    for (var i = 0; i < inline_js.length; i++) {\n      inline_js[i].call(root, root.Bokeh);\n    }\n    if (force === true) {\n        display_loaded();\n      }} else if (Date.now() < root._bokeh_timeout) {\n      setTimeout(run_inline_js, 100);\n    } else if (!root._bokeh_failed_load) {\n      console.log(\"Bokeh: BokehJS failed to load within specified timeout.\");\n      root._bokeh_failed_load = true;\n    } else if (force !== true) {\n      var cell = $(document.getElementById(\"1041\")).parents('.cell').data().cell;\n      cell.output_area.append_execute_result(NB_LOAD_WARNING)\n    }\n\n  }\n\n  if (root._bokeh_is_loading === 0) {\n    console.debug(\"Bokeh: BokehJS loaded, going straight to plotting\");\n    run_inline_js();\n  } else {\n    load_libs(css_urls, js_urls, function() {\n      console.debug(\"Bokeh: BokehJS plotting callback run at\", now());\n      run_inline_js();\n    });\n  }\n}(window));"
     },
     "metadata": {},
     "output_type": "display_data"
    },
    {
     "data": {
      "text/html": [
       "\n",
       "\n",
       "\n",
       "\n",
       "\n",
       "\n",
       "  <div class=\"bk-root\" id=\"e2abd2c0-5323-4199-90da-2482f65a61e6\" data-root-id=\"1001\"></div>\n"
      ]
     },
     "metadata": {},
     "output_type": "display_data"
    },
    {
     "data": {
      "application/javascript": [
       "(function(root) {\n",
       "  function embed_document(root) {\n",
       "    \n",
       "  var docs_json = {\"ebd1fd5d-f47b-4f23-9dc9-3e85663a17e2\":{\"roots\":{\"references\":[{\"attributes\":{\"below\":[{\"id\":\"1010\"}],\"center\":[{\"id\":\"1013\"},{\"id\":\"1017\"},{\"id\":\"1039\"}],\"left\":[{\"id\":\"1014\"}],\"plot_width\":700,\"renderers\":[{\"id\":\"1036\"}],\"title\":{\"id\":\"1042\"},\"toolbar\":{\"id\":\"1025\"},\"x_range\":{\"id\":\"1002\"},\"x_scale\":{\"id\":\"1006\"},\"y_range\":{\"id\":\"1004\"},\"y_scale\":{\"id\":\"1008\"}},\"id\":\"1001\",\"subtype\":\"Figure\",\"type\":\"Plot\"},{\"attributes\":{},\"id\":\"1019\",\"type\":\"WheelZoomTool\"},{\"attributes\":{},\"id\":\"1023\",\"type\":\"HelpTool\"},{\"attributes\":{\"active_drag\":\"auto\",\"active_inspect\":\"auto\",\"active_multi\":null,\"active_scroll\":\"auto\",\"active_tap\":\"auto\",\"tools\":[{\"id\":\"1018\"},{\"id\":\"1019\"},{\"id\":\"1020\"},{\"id\":\"1021\"},{\"id\":\"1022\"},{\"id\":\"1023\"}]},\"id\":\"1025\",\"type\":\"Toolbar\"},{\"attributes\":{\"axis\":{\"id\":\"1014\"},\"dimension\":1,\"ticker\":null},\"id\":\"1017\",\"type\":\"Grid\"},{\"attributes\":{\"axis\":{\"id\":\"1010\"},\"ticker\":null},\"id\":\"1013\",\"type\":\"Grid\"},{\"attributes\":{\"data\":{\"x\":[[263.42762,263.45868,263.48639,263.51072,263.53167,263.54923,263.5634,263.57416,263.58153,263.58549,263.58549,263.58153,263.57416,263.5634,263.54923,263.53167,263.51072,263.48639,263.45868,263.42762]],\"y\":[[-22.65756,-22.65865,-22.65961,-22.66043,-22.66112,-22.66167,-22.662100000000002,-22.6624,-22.662570000000002,-22.66261,-22.679209999999998,-22.67917,-22.679,-22.6787,-22.678269999999998,-22.677719999999997,-22.67703,-22.676209999999998,-22.67525,-22.674159999999997]]},\"selected\":{\"id\":\"1049\"},\"selection_policy\":{\"id\":\"1048\"}},\"id\":\"1032\",\"type\":\"ColumnDataSource\"},{\"attributes\":{\"bottom_units\":\"screen\",\"fill_alpha\":0.5,\"fill_color\":\"lightgrey\",\"left_units\":\"screen\",\"level\":\"overlay\",\"line_alpha\":1.0,\"line_color\":\"black\",\"line_dash\":[4,4],\"line_width\":2,\"right_units\":\"screen\",\"top_units\":\"screen\"},\"id\":\"1024\",\"type\":\"BoxAnnotation\"},{\"attributes\":{},\"id\":\"1048\",\"type\":\"UnionRenderers\"},{\"attributes\":{},\"id\":\"1015\",\"type\":\"BasicTicker\"},{\"attributes\":{},\"id\":\"1049\",\"type\":\"Selection\"},{\"attributes\":{},\"id\":\"1011\",\"type\":\"BasicTicker\"},{\"attributes\":{\"fill_alpha\":{\"value\":0.1},\"fill_color\":{\"value\":\"#1f77b4\"},\"line_width\":{\"value\":0.5},\"xs\":{\"field\":\"x\"},\"ys\":{\"field\":\"y\"}},\"id\":\"1034\",\"type\":\"Patches\"},{\"attributes\":{\"axis_label\":\"Dec (deg)\",\"formatter\":{\"id\":\"1047\"},\"ticker\":{\"id\":\"1015\"}},\"id\":\"1014\",\"type\":\"LinearAxis\"},{\"attributes\":{},\"id\":\"1006\",\"type\":\"LinearScale\"},{\"attributes\":{\"fill_alpha\":{\"value\":0.1},\"fill_color\":{\"value\":\"#1f77b4\"},\"line_alpha\":{\"value\":0.1},\"line_width\":{\"value\":0.5},\"xs\":{\"field\":\"x\"},\"ys\":{\"field\":\"y\"}},\"id\":\"1035\",\"type\":\"Patches\"},{\"attributes\":{},\"id\":\"1045\",\"type\":\"BasicTickFormatter\"},{\"attributes\":{},\"id\":\"1002\",\"type\":\"DataRange1d\"},{\"attributes\":{\"data_source\":{\"id\":\"1032\"},\"glyph\":{\"id\":\"1034\"},\"hover_glyph\":null,\"muted_glyph\":null,\"nonselection_glyph\":{\"id\":\"1035\"},\"selection_glyph\":null,\"view\":{\"id\":\"1037\"}},\"id\":\"1036\",\"type\":\"GlyphRenderer\"},{\"attributes\":{},\"id\":\"1008\",\"type\":\"LinearScale\"},{\"attributes\":{\"flipped\":true},\"id\":\"1004\",\"type\":\"DataRange1d\"},{\"attributes\":{\"axis_label\":\"RA (deg)\",\"formatter\":{\"id\":\"1045\"},\"ticker\":{\"id\":\"1011\"}},\"id\":\"1010\",\"type\":\"LinearAxis\"},{\"attributes\":{\"end\":{\"id\":\"1038\"},\"line_width\":{\"value\":2},\"source\":null,\"start\":null,\"x_end\":{\"value\":263.45868},\"x_start\":{\"value\":263.42762},\"y_end\":{\"value\":-22.65865},\"y_start\":{\"value\":-22.65756}},\"id\":\"1039\",\"type\":\"Arrow\"},{\"attributes\":{},\"id\":\"1047\",\"type\":\"BasicTickFormatter\"},{\"attributes\":{},\"id\":\"1018\",\"type\":\"PanTool\"},{\"attributes\":{},\"id\":\"1038\",\"type\":\"VeeHead\"},{\"attributes\":{},\"id\":\"1022\",\"type\":\"ResetTool\"},{\"attributes\":{},\"id\":\"1021\",\"type\":\"SaveTool\"},{\"attributes\":{\"source\":{\"id\":\"1032\"}},\"id\":\"1037\",\"type\":\"CDSView\"},{\"attributes\":{\"text\":\"\"},\"id\":\"1042\",\"type\":\"Title\"},{\"attributes\":{\"overlay\":{\"id\":\"1024\"}},\"id\":\"1020\",\"type\":\"BoxZoomTool\"}],\"root_ids\":[\"1001\"]},\"title\":\"Bokeh Application\",\"version\":\"2.2.0\"}};\n",
       "  var render_items = [{\"docid\":\"ebd1fd5d-f47b-4f23-9dc9-3e85663a17e2\",\"root_ids\":[\"1001\"],\"roots\":{\"1001\":\"e2abd2c0-5323-4199-90da-2482f65a61e6\"}}];\n",
       "  root.Bokeh.embed.embed_items_notebook(docs_json, render_items);\n",
       "\n",
       "  }\n",
       "  if (root.Bokeh !== undefined) {\n",
       "    embed_document(root);\n",
       "  } else {\n",
       "    var attempts = 0;\n",
       "    var timer = setInterval(function(root) {\n",
       "      if (root.Bokeh !== undefined) {\n",
       "        clearInterval(timer);\n",
       "        embed_document(root);\n",
       "      } else {\n",
       "        attempts++;\n",
       "        if (attempts > 100) {\n",
       "          clearInterval(timer);\n",
       "          console.log(\"Bokeh: ERROR: Unable to run BokehJS code because BokehJS library is missing\");\n",
       "        }\n",
       "      }\n",
       "    }, 10, root)\n",
       "  }\n",
       "})(window);"
      ],
      "application/vnd.bokehjs_exec.v0+json": ""
     },
     "metadata": {
      "application/vnd.bokehjs_exec.v0+json": {
       "id": "1001"
      }
     },
     "output_type": "display_data"
    }
   ],
   "source": [
    "plotting.notebook_bokeh(polygon)"
   ]
  },
  {
   "cell_type": "markdown",
   "metadata": {},
   "source": [
    "#### TAP Query"
   ]
  },
  {
   "cell_type": "code",
   "execution_count": 8,
   "metadata": {
    "scrolled": true
   },
   "outputs": [
    {
     "name": "stdout",
     "output_type": "stream",
     "text": [
      "Querying MAST...\n"
     ]
    }
   ],
   "source": [
    "start_time = min(eph['datetime_jd']) - 2400000.5\n",
    "end_time = max(eph['datetime_jd']) - 2400000.5\n",
    "\n",
    "# If no start/end time supplied, any observation in that footprint would be matched\n",
    "# results = mast_tap.run_tap_query(polygon, start_time=None, end_time=None, maxrec=100)\n",
    "\n",
    "results = mast_tap.run_tap_query(polygon, start_time=start_time, end_time=end_time, maxrec=100)\n",
    "\n",
    "# results"
   ]
  },
  {
   "cell_type": "markdown",
   "metadata": {},
   "source": [
    "Filter results to only include the ones where the target was in the field of view of the observation. "
   ]
  },
  {
   "cell_type": "code",
   "execution_count": 9,
   "metadata": {
    "scrolled": true
   },
   "outputs": [
    {
     "name": "stdout",
     "output_type": "stream",
     "text": [
      "Verifying footprints...\n"
     ]
    },
    {
     "data": {
      "text/html": [
       "<i>Table length=100</i>\n",
       "<table id=\"table5904635264\" class=\"table-striped table-bordered table-condensed\">\n",
       "<thead><tr><th>dataProduct_Type</th><th>calib_level</th><th>obs_collection</th><th>obs_id</th><th>target_name</th><th>s_ra</th><th>s_dec</th><th>t_min</th><th>t_max</th><th>t_exptime</th><th>wavelength_region</th><th>filters</th><th>em_min</th><th>em_max</th><th>target_classification</th><th>obs_title</th><th>t_obs_release</th><th>instrument_name</th><th>proposal_pi</th><th>proposal_id</th><th>proposal_type</th><th>project</th><th>sequence_number</th><th>provenance_name</th><th>s_region</th><th>jpegURL</th><th>dataURL</th><th>dataRights</th><th>mtFlag</th><th>srcDen</th><th>intentType</th><th>obsID</th><th>objID</th><th>t_mid</th><th>in_footprint</th></tr></thead>\n",
       "<thead><tr><th>object</th><th>int32</th><th>object</th><th>object</th><th>object</th><th>float64</th><th>float64</th><th>float64</th><th>float64</th><th>float64</th><th>object</th><th>object</th><th>float64</th><th>float64</th><th>object</th><th>object</th><th>float32</th><th>object</th><th>object</th><th>object</th><th>object</th><th>object</th><th>int32</th><th>object</th><th>object</th><th>object</th><th>object</th><th>object</th><th>bool</th><th>float64</th><th>object</th><th>int64</th><th>int64</th><th>float64</th><th>bool</th></tr></thead>\n",
       "<tr><td>image</td><td>2</td><td>HST</td><td>odxc17r5q</td><td>PJ19-NORTH-V17</td><td>263.5047923584</td><td>-22.66200323293</td><td>58576.72344425</td><td>58576.75064332</td><td>2350.199875</td><td>UV</td><td>MIRFUV</td><td>--</td><td>--</td><td>PLANET; JUPITER NORTH AURORA PJ19</td><td>Auroral and magnetospheric context for Juno in situ instruments during Cycle 26</td><td>58577.2</td><td>STIS/FUV-MAMA</td><td>Grodent, Denis C</td><td>15638</td><td>GO</td><td>HST</td><td>-999</td><td>CALSTIS</td><td>POLYGON 263.51009445 -22.66216647 263.50452016 -22.66689223 263.49941701 -22.66176617 263.50499126 -22.65704061 263.51009445 -22.66216647</td><td></td><td>mast:HST/product/odxc17r5q_flt.fits</td><td>PUBLIC</td><td>True</td><td>--</td><td>science</td><td>2008085787</td><td>2045387013</td><td>2458577.237043785</td><td>True</td></tr>\n",
       "<tr><td>image</td><td>2</td><td>HST</td><td>odxc18zuq</td><td>PJ19-NORTH-V18</td><td>263.5464225878</td><td>-22.66338068579</td><td>58578.77577057</td><td>58578.80296959</td><td>2350.1995</td><td>UV</td><td>MIRFUV</td><td>--</td><td>--</td><td>PLANET; JUPITER NORTH AURORA PJ19</td><td>Auroral and magnetospheric context for Juno in situ instruments during Cycle 26</td><td>58579.098</td><td>STIS/FUV-MAMA</td><td>Grodent, Denis C</td><td>15638</td><td>GO</td><td>HST</td><td>-999</td><td>CALSTIS</td><td>POLYGON 263.55172486 -22.66354056 263.54615403 -22.66826985 263.54104701 -22.66314702 263.54661781 -22.65841793 263.55172486 -22.66354056</td><td></td><td>mast:HST/product/odxc18zuq_flt.fits</td><td>PUBLIC</td><td>True</td><td>--</td><td>science</td><td>2008085985</td><td>2045713065</td><td>2458579.28937008</td><td>True</td></tr>\n",
       "<tr><td>image</td><td>3</td><td>HST</td><td>idya01cys</td><td>JUPITER</td><td>263.556077941</td><td>-22.66428836934</td><td>58579.43654679</td><td>58579.43700992</td><td>40.0</td><td>UV</td><td>F225W</td><td>210.0</td><td>270.0</td><td>PLANET; JUPITER</td><td>Context Maps of Jupiter in Support of the Juno Mission, and more</td><td>58762.777</td><td>WFC3/UVIS</td><td>de Pater, Imke</td><td>15665</td><td>GO</td><td>HST</td><td>-999</td><td>CALWF3</td><td>POLYGON 263.53845900 -22.66666900 263.55662400 -22.65120800 263.57430900 -22.66889900 263.55614400 -22.68436200 263.53845900 -22.66666900</td><td>mast:HST/product/idya01cys_drz.jpg</td><td>mast:HST/product/idya01cys_drz.fits</td><td>PUBLIC</td><td>True</td><td>--</td><td>science</td><td>2008086346</td><td>2047435161</td><td>2458579.936778355</td><td>True</td></tr>\n",
       "<tr><td>image</td><td>3</td><td>HST</td><td>idya01czs</td><td>JUPITER</td><td>263.5561200144</td><td>-22.6642896394</td><td>58579.43940567</td><td>58579.43963696</td><td>20.0</td><td>Optical</td><td>F275W</td><td>240.0</td><td>310.0</td><td>PLANET; JUPITER</td><td>Context Maps of Jupiter in Support of the Juno Mission, and more</td><td>58762.777</td><td>WFC3/UVIS</td><td>de Pater, Imke</td><td>15665</td><td>GO</td><td>HST</td><td>-999</td><td>CALWF3</td><td>POLYGON 263.53849900 -22.66667000 263.55667300 -22.65120200 263.57435800 -22.66889300 263.55618400 -22.68436300 263.53849900 -22.66667000</td><td>mast:HST/product/idya01czs_drz.jpg</td><td>mast:HST/product/idya01czs_drz.fits</td><td>PUBLIC</td><td>True</td><td>--</td><td>science</td><td>2008086343</td><td>2047431592</td><td>2458579.939521315</td><td>True</td></tr>\n",
       "<tr><td>image</td><td>3</td><td>HST</td><td>idya01d0s</td><td>JUPITER</td><td>263.5561577392</td><td>-22.66429077799</td><td>58579.44189418</td><td>58579.44199841</td><td>9.0</td><td>Optical</td><td>F395N</td><td>390.0</td><td>400.0</td><td>PLANET; JUPITER</td><td>Context Maps of Jupiter in Support of the Juno Mission, and more</td><td>58762.777</td><td>WFC3/UVIS</td><td>de Pater, Imke</td><td>15665</td><td>GO</td><td>HST</td><td>-999</td><td>CALWF3</td><td>POLYGON 263.53853500 -22.66667200 263.55670800 -22.65120400 263.57439400 -22.66889500 263.55622000 -22.68436500 263.53853500 -22.66667200</td><td>mast:HST/product/idya01d0s_drz.jpg</td><td>mast:HST/product/idya01d0s_drz.fits</td><td>PUBLIC</td><td>True</td><td>--</td><td>science</td><td>2008086078</td><td>2047436447</td><td>2458579.941946295</td><td>True</td></tr>\n",
       "<tr><td>image</td><td>3</td><td>HST</td><td>idya01d1s</td><td>JUPITER</td><td>263.5561916215</td><td>-22.66429180045</td><td>58579.44441751</td><td>58579.44446362</td><td>4.0</td><td>Optical</td><td>F631N</td><td>630.0</td><td>630.0</td><td>PLANET; JUPITER</td><td>Context Maps of Jupiter in Support of the Juno Mission, and more</td><td>58762.777</td><td>WFC3/UVIS</td><td>de Pater, Imke</td><td>15665</td><td>GO</td><td>HST</td><td>-999</td><td>CALWF3</td><td>POLYGON 263.53857100 -22.66667100 263.55674400 -22.65120400 263.57442900 -22.66889500 263.55625600 -22.68436400 263.53857100 -22.66667100</td><td>mast:HST/product/idya01d1s_drz.jpg</td><td>mast:HST/product/idya01d1s_drz.fits</td><td>PUBLIC</td><td>True</td><td>--</td><td>science</td><td>2008086076</td><td>2047436536</td><td>2458579.944440565</td><td>True</td></tr>\n",
       "<tr><td>image</td><td>3</td><td>HST</td><td>idya01d2s</td><td>JUPITER</td><td>263.5559901833</td><td>-22.66623216133</td><td>58579.44726455</td><td>58579.44735694</td><td>8.0</td><td>Optical</td><td>FQ727N</td><td>720.0</td><td>730.0</td><td>PLANET; JUPITER</td><td>Context Maps of Jupiter in Support of the Juno Mission, and more</td><td>58762.777</td><td>WFC3/UVIS</td><td>de Pater, Imke</td><td>15665</td><td>GO</td><td>HST</td><td>-999</td><td>CALWF3</td><td>POLYGON 263.53836800 -22.66861200 263.55654200 -22.65314500 263.57422800 -22.67083600 263.55605400 -22.68630500 263.53836800 -22.66861200</td><td>mast:HST/product/idya01d2s_drz.jpg</td><td>mast:HST/product/idya01d2s_drz.fits</td><td>PUBLIC</td><td>True</td><td>--</td><td>science</td><td>2008086349</td><td>2047435167</td><td>2458579.947310745</td><td>True</td></tr>\n",
       "<tr><td>image</td><td>3</td><td>HST</td><td>idya01d3s</td><td>JUPITER</td><td>263.5563868654</td><td>-22.67222154259</td><td>58579.46560938</td><td>58579.46584101</td><td>20.0</td><td>Optical</td><td>FQ889N</td><td>880.0</td><td>890.0</td><td>PLANET; JUPITER</td><td>Context Maps of Jupiter in Support of the Juno Mission, and more</td><td>58762.777</td><td>WFC3/UVIS</td><td>de Pater, Imke</td><td>15665</td><td>GO</td><td>HST</td><td>-999</td><td>CALWF3</td><td>POLYGON 263.53871200 -22.66717100 263.55661200 -22.65193300 263.57410600 -22.66942800 263.55620600 -22.68466800 263.53871200 -22.66717100</td><td>mast:HST/product/idya01d3s_drz.jpg</td><td>mast:HST/product/idya01d3s_drz.fits</td><td>PUBLIC</td><td>True</td><td>--</td><td>science</td><td>2008086077</td><td>2047434717</td><td>2458579.965725195</td><td>True</td></tr>\n",
       "<tr><td>image</td><td>3</td><td>HST</td><td>idya02dgq</td><td>JUPITER</td><td>263.5569702399</td><td>-22.6643151007</td><td>58579.50277381</td><td>58579.50281991</td><td>4.0</td><td>Optical</td><td>F631N</td><td>630.0</td><td>630.0</td><td>PLANET; JUPITER</td><td>Context Maps of Jupiter in Support of the Juno Mission, and more</td><td>58762.777</td><td>WFC3/UVIS</td><td>de Pater, Imke</td><td>15665</td><td>GO</td><td>HST</td><td>-999</td><td>CALWF3</td><td>POLYGON 263.53937100 -22.66682600 263.55740700 -22.65122300 263.57524800 -22.66878100 263.55721100 -22.68438600 263.53937100 -22.66682600</td><td>mast:HST/product/idya02dgq_drz.jpg</td><td>mast:HST/product/idya02dgq_drz.fits</td><td>PUBLIC</td><td>True</td><td>--</td><td>science</td><td>2008086075</td><td>2047436395</td><td>2458580.00279686</td><td>True</td></tr>\n",
       "<tr><td>image</td><td>3</td><td>HST</td><td>idya02dhq</td><td>JUPITER</td><td>263.5567862518</td><td>-22.66625722854</td><td>58579.50562122</td><td>58579.50571362</td><td>8.0</td><td>Optical</td><td>FQ727N</td><td>720.0</td><td>730.0</td><td>PLANET; JUPITER</td><td>Context Maps of Jupiter in Support of the Juno Mission, and more</td><td>58762.777</td><td>WFC3/UVIS</td><td>de Pater, Imke</td><td>15665</td><td>GO</td><td>HST</td><td>-999</td><td>CALWF3</td><td>POLYGON 263.53918600 -22.66876900 263.55722300 -22.65316600 263.57506400 -22.67072400 263.55702600 -22.68632900 263.53918600 -22.66876900</td><td>mast:HST/product/idya02dhq_drz.jpg</td><td>mast:HST/product/idya02dhq_drz.fits</td><td>PUBLIC</td><td>True</td><td>--</td><td>science</td><td>2008086080</td><td>2047435211</td><td>2458580.00566742</td><td>True</td></tr>\n",
       "<tr><td>...</td><td>...</td><td>...</td><td>...</td><td>...</td><td>...</td><td>...</td><td>...</td><td>...</td><td>...</td><td>...</td><td>...</td><td>...</td><td>...</td><td>...</td><td>...</td><td>...</td><td>...</td><td>...</td><td>...</td><td>...</td><td>...</td><td>...</td><td>...</td><td>...</td><td>...</td><td>...</td><td>...</td><td>...</td><td>...</td><td>...</td><td>...</td><td>...</td><td>...</td><td>...</td></tr>\n",
       "<tr><td>image</td><td>3</td><td>HST</td><td>id9o41iyq</td><td>JUPITER2</td><td>263.5847596921</td><td>-22.66697274797</td><td>58582.61776235</td><td>58582.61785471</td><td>8.0</td><td>Optical</td><td>FQ727N</td><td>720.0</td><td>730.0</td><td>PLANET; JUPITER ATMOSPHERE</td><td>Wide Field Coverage for Juno (WFCJ): Jupiters 2D Wind Field and Cloud Structure</td><td>58948.95</td><td>WFC3/UVIS</td><td>Wong, Michael H.</td><td>14661</td><td>GO</td><td>HST</td><td>-999</td><td>CALWF3</td><td>POLYGON 263.56697800 -22.66790000 263.58656800 -22.65398200 263.60248300 -22.67305200 263.58289200 -22.68697200 263.56697800 -22.66790000</td><td>mast:HST/product/id9o41iyq_drz.jpg</td><td>mast:HST/product/id9o41iyq_drz.fits</td><td>PUBLIC</td><td>True</td><td>--</td><td>science</td><td>2008086561</td><td>2047805235</td><td>2458583.11780853</td><td>True</td></tr>\n",
       "<tr><td>image</td><td>3</td><td>HST</td><td>id9o41izq</td><td>JUPITER2</td><td>263.5852003203</td><td>-22.66506744207</td><td>58582.62074826</td><td>58582.62079471</td><td>4.0</td><td>Optical</td><td>F631N</td><td>630.0</td><td>630.0</td><td>PLANET; JUPITER ATMOSPHERE</td><td>Wide Field Coverage for Juno (WFCJ): Jupiters 2D Wind Field and Cloud Structure</td><td>58948.95</td><td>WFC3/UVIS</td><td>Wong, Michael H.</td><td>14661</td><td>GO</td><td>HST</td><td>-999</td><td>CALWF3</td><td>POLYGON 263.56742000 -22.66599400 263.58700900 -22.65207600 263.60292400 -22.67114600 263.58333300 -22.68506600 263.56742000 -22.66599400</td><td>mast:HST/product/id9o41izq_drz.jpg</td><td>mast:HST/product/id9o41izq_drz.fits</td><td>PUBLIC</td><td>True</td><td>--</td><td>science</td><td>2008086563</td><td>2047806005</td><td>2458583.120771485</td><td>True</td></tr>\n",
       "<tr><td>image</td><td>3</td><td>HST</td><td>id9o41j0q</td><td>JUPITER2</td><td>263.5852090875</td><td>-22.6650675136</td><td>58582.62321343</td><td>58582.62325992</td><td>4.0</td><td>Optical</td><td>F502N</td><td>500.0</td><td>500.0</td><td>PLANET; JUPITER ATMOSPHERE</td><td>Wide Field Coverage for Juno (WFCJ): Jupiters 2D Wind Field and Cloud Structure</td><td>58948.95</td><td>WFC3/UVIS</td><td>Wong, Michael H.</td><td>14661</td><td>GO</td><td>HST</td><td>-999</td><td>CALWF3</td><td>POLYGON 263.56742800 -22.66599500 263.58701800 -22.65207700 263.60293200 -22.67114700 263.58334200 -22.68506700 263.56742800 -22.66599500</td><td>mast:HST/product/id9o41j0q_drz.jpg</td><td>mast:HST/product/id9o41j0q_drz.fits</td><td>PUBLIC</td><td>True</td><td>--</td><td>science</td><td>2008086565</td><td>2047805472</td><td>2458583.123236675</td><td>True</td></tr>\n",
       "<tr><td>image</td><td>3</td><td>HST</td><td>id9o41j1q</td><td>JUPITER2</td><td>263.5852178338</td><td>-22.66506758437</td><td>58582.62555159</td><td>58582.62565547</td><td>9.0</td><td>Optical</td><td>F395N</td><td>390.0</td><td>400.0</td><td>PLANET; JUPITER ATMOSPHERE</td><td>Wide Field Coverage for Juno (WFCJ): Jupiters 2D Wind Field and Cloud Structure</td><td>58948.945</td><td>WFC3/UVIS</td><td>Wong, Michael H.</td><td>14661</td><td>GO</td><td>HST</td><td>-999</td><td>CALWF3</td><td>POLYGON 263.56743600 -22.66599600 263.58702500 -22.65207800 263.60294000 -22.67114800 263.58334900 -22.68506800 263.56743600 -22.66599600</td><td>mast:HST/product/id9o41j1q_drz.jpg</td><td>mast:HST/product/id9o41j1q_drz.fits</td><td>PUBLIC</td><td>True</td><td>--</td><td>science</td><td>2008086560</td><td>2047805978</td><td>2458583.12560353</td><td>True</td></tr>\n",
       "<tr><td>image</td><td>3</td><td>HST</td><td>id9o42j3q</td><td>JUPITER2</td><td>263.5845333043</td><td>-22.67295297782</td><td>58582.68042419</td><td>58582.68077138</td><td>30.0</td><td>Optical</td><td>FQ889N</td><td>880.0</td><td>890.0</td><td>PLANET; JUPITER ATMOSPHERE</td><td>Wide Field Coverage for Juno (WFCJ): Jupiters 2D Wind Field and Cloud Structure</td><td>58948.95</td><td>WFC3/UVIS</td><td>Wong, Michael H.</td><td>14661</td><td>GO</td><td>HST</td><td>-999</td><td>CALWF3</td><td>POLYGON 263.56741300 -22.66647500 263.58671700 -22.65275600 263.60245900 -22.67161500 263.58315400 -22.68533600 263.56741300 -22.66647500</td><td>mast:HST/product/id9o42j3q_drz.jpg</td><td>mast:HST/product/id9o42j3q_drz.fits</td><td>PUBLIC</td><td>True</td><td>--</td><td>science</td><td>2008086559</td><td>2047806033</td><td>2458583.180597785</td><td>True</td></tr>\n",
       "<tr><td>image</td><td>3</td><td>HST</td><td>id9o42j4q</td><td>JUPITER2</td><td>263.5849885243</td><td>-22.66697442594</td><td>58582.68395455</td><td>58582.68404696</td><td>8.0</td><td>Optical</td><td>FQ727N</td><td>720.0</td><td>730.0</td><td>PLANET; JUPITER ATMOSPHERE</td><td>Wide Field Coverage for Juno (WFCJ): Jupiters 2D Wind Field and Cloud Structure</td><td>58948.95</td><td>WFC3/UVIS</td><td>Wong, Michael H.</td><td>14661</td><td>GO</td><td>HST</td><td>-999</td><td>CALWF3</td><td>POLYGON 263.56720700 -22.66790200 263.58679700 -22.65398400 263.60271100 -22.67305300 263.58312100 -22.68697300 263.56720700 -22.66790200</td><td>mast:HST/product/id9o42j4q_drz.jpg</td><td>mast:HST/product/id9o42j4q_drz.fits</td><td>PUBLIC</td><td>True</td><td>--</td><td>science</td><td>2008086556</td><td>2047805268</td><td>2458583.184000755</td><td>True</td></tr>\n",
       "<tr><td>image</td><td>3</td><td>HST</td><td>id9o43jfq</td><td>JUPITER2</td><td>263.5847518805</td><td>-22.67295421594</td><td>58582.7466164</td><td>58582.74696362</td><td>30.0</td><td>Optical</td><td>FQ889N</td><td>880.0</td><td>890.0</td><td>PLANET; JUPITER ATMOSPHERE</td><td>Wide Field Coverage for Juno (WFCJ): Jupiters 2D Wind Field and Cloud Structure</td><td>58948.95</td><td>WFC3/UVIS</td><td>Wong, Michael H.</td><td>14661</td><td>GO</td><td>HST</td><td>-999</td><td>CALWF3</td><td>POLYGON 263.56761900 -22.66650400 263.58689700 -22.65275400 263.60267500 -22.67158700 263.58339600 -22.68533900 263.56761900 -22.66650400</td><td>mast:HST/product/id9o43jfq_drz.jpg</td><td>mast:HST/product/id9o43jfq_drz.fits</td><td>PUBLIC</td><td>True</td><td>--</td><td>science</td><td>2008086534</td><td>2047805224</td><td>2458583.24679001</td><td>True</td></tr>\n",
       "<tr><td>image</td><td>3</td><td>HST</td><td>id9o43jgq</td><td>JUPITER2</td><td>263.5851949515</td><td>-22.66697492901</td><td>58582.75014641</td><td>58582.75023916</td><td>8.0</td><td>Optical</td><td>FQ727N</td><td>720.0</td><td>730.0</td><td>PLANET; JUPITER ATMOSPHERE</td><td>Wide Field Coverage for Juno (WFCJ): Jupiters 2D Wind Field and Cloud Structure</td><td>58948.95</td><td>WFC3/UVIS</td><td>Wong, Michael H.</td><td>14661</td><td>GO</td><td>HST</td><td>-999</td><td>CALWF3</td><td>POLYGON 263.56741500 -22.66793100 263.58697900 -22.65398100 263.60292900 -22.67302500 263.58336500 -22.68697700 263.56741500 -22.66793100</td><td>mast:HST/product/id9o43jgq_drz.jpg</td><td>mast:HST/product/id9o43jgq_drz.fits</td><td>PUBLIC</td><td>True</td><td>--</td><td>science</td><td>2008086544</td><td>2047805893</td><td>2458583.250192785</td><td>True</td></tr>\n",
       "<tr><td>image</td><td>3</td><td>HST</td><td>id9o44jlq</td><td>JUPITER2</td><td>263.5849477276</td><td>-22.67295473501</td><td>58582.8128316</td><td>58582.81317878</td><td>30.0</td><td>Optical</td><td>FQ889N</td><td>880.0</td><td>890.0</td><td>PLANET; JUPITER ATMOSPHERE</td><td>Wide Field Coverage for Juno (WFCJ): Jupiters 2D Wind Field and Cloud Structure</td><td>58949.086</td><td>WFC3/UVIS</td><td>Wong, Michael H.</td><td>14661</td><td>GO</td><td>HST</td><td>-999</td><td>CALWF3</td><td>POLYGON 263.56782700 -22.66647700 263.58713100 -22.65275800 263.60287400 -22.67161700 263.58356900 -22.68533800 263.56782700 -22.66647700</td><td>mast:HST/product/id9o44jlq_drz.jpg</td><td>mast:HST/product/id9o44jlq_drz.fits</td><td>PUBLIC</td><td>True</td><td>--</td><td>science</td><td>2008086587</td><td>2047805258</td><td>2458583.31300519</td><td>True</td></tr>\n",
       "<tr><td>image</td><td>3</td><td>HST</td><td>id9o44jmq</td><td>JUPITER2</td><td>263.5854012681</td><td>-22.66697612123</td><td>58582.81636157</td><td>58582.81645436</td><td>8.0</td><td>Optical</td><td>FQ727N</td><td>720.0</td><td>730.0</td><td>PLANET; JUPITER ATMOSPHERE</td><td>Wide Field Coverage for Juno (WFCJ): Jupiters 2D Wind Field and Cloud Structure</td><td>58949.086</td><td>WFC3/UVIS</td><td>Wong, Michael H.</td><td>14661</td><td>GO</td><td>HST</td><td>-999</td><td>CALWF3</td><td>POLYGON 263.56762000 -22.66790300 263.58721000 -22.65398500 263.60312400 -22.67305500 263.58353300 -22.68697500 263.56762000 -22.66790300</td><td>mast:HST/product/id9o44jmq_drz.jpg</td><td>mast:HST/product/id9o44jmq_drz.fits</td><td>PUBLIC</td><td>True</td><td>--</td><td>science</td><td>2008086591</td><td>2047805237</td><td>2458583.316407965</td><td>True</td></tr>\n",
       "</table>"
      ],
      "text/plain": [
       "<Table length=100>\n",
       "dataProduct_Type calib_level obs_collection ...       t_mid       in_footprint\n",
       "     object         int32        object     ...      float64          bool    \n",
       "---------------- ----------- -------------- ... ----------------- ------------\n",
       "           image           2            HST ... 2458577.237043785         True\n",
       "           image           2            HST ...  2458579.28937008         True\n",
       "           image           3            HST ... 2458579.936778355         True\n",
       "           image           3            HST ... 2458579.939521315         True\n",
       "           image           3            HST ... 2458579.941946295         True\n",
       "           image           3            HST ... 2458579.944440565         True\n",
       "           image           3            HST ... 2458579.947310745         True\n",
       "           image           3            HST ... 2458579.965725195         True\n",
       "           image           3            HST ...  2458580.00279686         True\n",
       "           image           3            HST ...  2458580.00566742         True\n",
       "             ...         ...            ... ...               ...          ...\n",
       "           image           3            HST ...  2458583.11780853         True\n",
       "           image           3            HST ... 2458583.120771485         True\n",
       "           image           3            HST ... 2458583.123236675         True\n",
       "           image           3            HST ...  2458583.12560353         True\n",
       "           image           3            HST ... 2458583.180597785         True\n",
       "           image           3            HST ... 2458583.184000755         True\n",
       "           image           3            HST ...  2458583.24679001         True\n",
       "           image           3            HST ... 2458583.250192785         True\n",
       "           image           3            HST ...  2458583.31300519         True\n",
       "           image           3            HST ... 2458583.316407965         True"
      ]
     },
     "execution_count": 9,
     "metadata": {},
     "output_type": "execute_result"
    }
   ],
   "source": [
    "filtered_results = mast_tap.clean_up_results(results, obj_name=obj_name, id_type=id_type, location=location)\n",
    "\n",
    "filtered_results"
   ]
  },
  {
   "cell_type": "code",
   "execution_count": null,
   "metadata": {},
   "outputs": [],
   "source": []
  }
 ],
 "metadata": {
  "kernelspec": {
   "display_name": "Python 3",
   "language": "python",
   "name": "python3"
  },
  "language_info": {
   "codemirror_mode": {
    "name": "ipython",
    "version": 3
   },
   "file_extension": ".py",
   "mimetype": "text/x-python",
   "name": "python",
   "nbconvert_exporter": "python",
   "pygments_lexer": "ipython3",
   "version": "3.8.5"
  }
 },
 "nbformat": 4,
 "nbformat_minor": 4
}
