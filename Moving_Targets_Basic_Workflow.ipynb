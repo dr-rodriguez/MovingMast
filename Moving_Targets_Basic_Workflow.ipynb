{
 "cells": [
  {
   "cell_type": "markdown",
   "metadata": {},
   "source": [
    "# Moving Targets: Basic Workflow"
   ]
  },
  {
   "cell_type": "markdown",
   "metadata": {},
   "source": [
    "#### Imports"
   ]
  },
  {
   "cell_type": "code",
   "execution_count": null,
   "metadata": {},
   "outputs": [],
   "source": [
    "import target\n",
    "import plotting\n",
    "import mast_tap"
   ]
  },
  {
   "cell_type": "markdown",
   "metadata": {},
   "source": [
    "#### Target Parameters\n",
    "\n",
    "Setting some parameters up front that will be used elsewhere."
   ]
  },
  {
   "cell_type": "code",
   "execution_count": null,
   "metadata": {},
   "outputs": [],
   "source": [
    "# 599 Luisa (A906 HF)\n",
    "# obj_name = '599'  \n",
    "# id_type = 'smallbody'\n",
    "# times = {'start':'2010-01-01', 'stop':'2010-01-10', 'step':'1d'}\n",
    "\n",
    "# Jupiter Barycenter\n",
    "obj_name = '5'\n",
    "id_type='majorbody'\n",
    "times={'start': '2019-04-01', 'stop': '2019-04-10', 'step': '1d'} # WFC3\n",
    "#times = {'start': '1997-07-10', 'stop': '1997-07-15', 'step': '12h'} # WFPC2\n",
    "\n",
    "location = None # Geocentric default"
   ]
  },
  {
   "cell_type": "markdown",
   "metadata": {},
   "source": [
    "#### Get the ephemerides as an astropy table"
   ]
  },
  {
   "cell_type": "code",
   "execution_count": null,
   "metadata": {},
   "outputs": [],
   "source": [
    "eph = target.get_path(obj_name, id_type=id_type, times=times, location=location)\n",
    "\n",
    "eph"
   ]
  },
  {
   "cell_type": "markdown",
   "metadata": {},
   "source": [
    "#### Convert this to a space-time coordinate string polygon\n",
    "\n",
    "See http://www.ivoa.net/documents/STC-S/20130917/WD-STC-S-1.0-20130917.html"
   ]
  },
  {
   "cell_type": "code",
   "execution_count": null,
   "metadata": {},
   "outputs": [],
   "source": [
    "polygon = target.convert_path_to_polygon(eph)\n",
    "\n",
    "polygon"
   ]
  },
  {
   "cell_type": "markdown",
   "metadata": {},
   "source": [
    "#### Plotting the polygon"
   ]
  },
  {
   "cell_type": "code",
   "execution_count": null,
   "metadata": {},
   "outputs": [],
   "source": [
    "plotting.polygon_bokeh(polygon, display=True)"
   ]
  },
  {
   "cell_type": "markdown",
   "metadata": {},
   "source": [
    "#### TAP Query"
   ]
  },
  {
   "cell_type": "code",
   "execution_count": null,
   "metadata": {
    "scrolled": true
   },
   "outputs": [],
   "source": [
    "start_time = min(eph['datetime_jd']) - 2400000.5\n",
    "end_time = max(eph['datetime_jd']) - 2400000.5\n",
    "\n",
    "# If no start/end time supplied, any observation in that footprint would be matched\n",
    "# results = mast_tap.run_tap_query(polygon, start_time=None, end_time=None, maxrec=100)\n",
    "\n",
    "results = mast_tap.run_tap_query(polygon, start_time=start_time, end_time=end_time, maxrec=100)\n",
    "\n",
    "# results"
   ]
  },
  {
   "cell_type": "markdown",
   "metadata": {},
   "source": [
    "Filter results to only include the ones where the target was in the field of view of the observation. "
   ]
  },
  {
   "cell_type": "code",
   "execution_count": null,
   "metadata": {
    "scrolled": true
   },
   "outputs": [],
   "source": [
    "filtered_results = mast_tap.clean_up_results(results, obj_name=obj_name, id_type=id_type, location=location)\n",
    "\n",
    "filtered_results"
   ]
  },
  {
   "cell_type": "code",
   "execution_count": null,
   "metadata": {},
   "outputs": [],
   "source": []
  }
 ],
 "metadata": {
  "kernelspec": {
   "display_name": "Python 3",
   "language": "python",
   "name": "python3"
  },
  "language_info": {
   "codemirror_mode": {
    "name": "ipython",
    "version": 3
   },
   "file_extension": ".py",
   "mimetype": "text/x-python",
   "name": "python",
   "nbconvert_exporter": "python",
   "pygments_lexer": "ipython3",
   "version": "3.8.5"
  }
 },
 "nbformat": 4,
 "nbformat_minor": 4
}
