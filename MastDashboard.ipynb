{
 "cells": [
  {
   "cell_type": "markdown",
   "metadata": {},
   "source": [
    "# Searching MAST for Moving Targets\n",
    "\n",
    "This is the version meant to be run via a server. Call:\n",
    "```\n",
    "panel serve --show MastDashboard.ipynb\n",
    "```"
   ]
  },
  {
   "cell_type": "code",
   "execution_count": null,
   "metadata": {},
   "outputs": [],
   "source": [
    "import panel as pn\n",
    "import viz\n",
    "\n",
    "css = ['https://cdn.datatables.net/1.10.21/css/jquery.dataTables.min.css']\n",
    "js = {\n",
    "    '$': 'https://code.jquery.com/jquery-3.4.1.slim.min.js',\n",
    "    'DataTable': 'https://cdn.datatables.net/1.10.21/js/jquery.dataTables.min.js'\n",
    "}\n",
    "\n",
    "pn.extension(css_files=css, js_files=js)"
   ]
  },
  {
   "cell_type": "code",
   "execution_count": null,
   "metadata": {},
   "outputs": [],
   "source": [
    "dash = viz.MastQuery(data_tables=True)\n",
    "dash.panel(debug=False).servable()"
   ]
  }
 ],
 "metadata": {
  "kernelspec": {
   "display_name": "Python 3",
   "language": "python",
   "name": "python3"
  },
  "language_info": {
   "codemirror_mode": {
    "name": "ipython",
    "version": 3
   },
   "file_extension": ".py",
   "mimetype": "text/x-python",
   "name": "python",
   "nbconvert_exporter": "python",
   "pygments_lexer": "ipython3",
   "version": "3.8.5"
  }
 },
 "nbformat": 4,
 "nbformat_minor": 4
}
